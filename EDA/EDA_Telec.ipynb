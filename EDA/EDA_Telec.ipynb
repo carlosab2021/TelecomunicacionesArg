{
 "cells": [
  {
   "cell_type": "markdown",
   "metadata": {},
   "source": [
    "Datasets seleccionados:\n",
    "    Se ha determido analizar 2 (dos), datasets para realizar el ETL, EDA y así posteriormente disponibilizar estos datos con la finalidad de realizar el dasbhoard y observar detalladamente los datos, como así tambien en forma interctivo."
   ]
  },
  {
   "cell_type": "markdown",
   "metadata": {},
   "source": [
    "EDA explorando y analizando los datos de Internet_BAF.csv."
   ]
  },
  {
   "cell_type": "code",
   "execution_count": 24,
   "metadata": {},
   "outputs": [],
   "source": [
    "import pandas as pd\n",
    "# Carga el archivo CSV en un DataFrame\n",
    "df_csv = pd.read_csv('Internet_BAF.csv')\n"
   ]
  },
  {
   "cell_type": "markdown",
   "metadata": {},
   "source": [
    "Visualización de las primeras filas del DataFrame, se aclara que Capital Federal se analiza como una provincia más ya que es una Ciudad Autónoma con su propio Jefe de Gobierno, debido a la cantidad de Habitantes:"
   ]
  },
  {
   "cell_type": "code",
   "execution_count": 21,
   "metadata": {},
   "outputs": [
    {
     "name": "stdout",
     "output_type": "stream",
     "text": [
      "    Año  Trimestre        Provincia  Banda ancha fija  Dial up  Total\n",
      "0  2022          4     Buenos Aires                 5      6.0      5\n",
      "1  2022          4  Capital Federal                 2      2.0      2\n",
      "2  2022          4        Catamarca                71      1.0     71\n",
      "3  2022          4            Chaco               144      5.0    144\n",
      "4  2022          4           Chubut               168    904.0    169\n"
     ]
    }
   ],
   "source": [
    "print(df_csv.head())\n"
   ]
  },
  {
   "cell_type": "markdown",
   "metadata": {},
   "source": [
    "Resumen estadístico de las columnas numéricas:"
   ]
  },
  {
   "cell_type": "code",
   "execution_count": 22,
   "metadata": {},
   "outputs": [
    {
     "name": "stdout",
     "output_type": "stream",
     "text": [
      "               Año   Trimestre  Banda ancha fija     Dial up       Total\n",
      "count   864.000000  864.000000        864.000000  862.000000  864.000000\n",
      "mean   2018.000000    2.500000        137.326389  150.595128  137.636574\n",
      "std       2.583484    1.118682        180.812265  230.167337  180.798813\n",
      "min    2014.000000    1.000000          1.000000    0.000000    1.000000\n",
      "25%    2016.000000    1.750000         39.000000    2.000000   39.750000\n",
      "50%    2018.000000    2.500000         90.500000   16.000000   91.000000\n",
      "75%    2020.000000    3.250000        143.000000  253.500000  143.250000\n",
      "max    2022.000000    4.000000        987.000000  998.000000  987.000000\n"
     ]
    }
   ],
   "source": [
    "print(df_csv.describe())\n"
   ]
  },
  {
   "cell_type": "markdown",
   "metadata": {},
   "source": [
    "Información sobre las columnas, incluyendo tipos de datos y valores nulos:"
   ]
  },
  {
   "cell_type": "code",
   "execution_count": 23,
   "metadata": {},
   "outputs": [
    {
     "name": "stdout",
     "output_type": "stream",
     "text": [
      "<class 'pandas.core.frame.DataFrame'>\n",
      "RangeIndex: 864 entries, 0 to 863\n",
      "Data columns (total 6 columns):\n",
      " #   Column            Non-Null Count  Dtype  \n",
      "---  ------            --------------  -----  \n",
      " 0   Año               864 non-null    int64  \n",
      " 1   Trimestre         864 non-null    int64  \n",
      " 2   Provincia         864 non-null    object \n",
      " 3   Banda ancha fija  864 non-null    int64  \n",
      " 4   Dial up           862 non-null    float64\n",
      " 5   Total             864 non-null    int64  \n",
      "dtypes: float64(1), int64(4), object(1)\n",
      "memory usage: 40.6+ KB\n",
      "None\n"
     ]
    }
   ],
   "source": [
    "print(df_csv.info())\n"
   ]
  },
  {
   "cell_type": "markdown",
   "metadata": {},
   "source": [
    "Visualización de gráficos para explorar distribuciones, relaciones y patrones en los datos. "
   ]
  },
  {
   "cell_type": "code",
   "execution_count": 25,
   "metadata": {},
   "outputs": [
    {
     "name": "stderr",
     "output_type": "stream",
     "text": [
      "C:\\Users\\Usuario\\AppData\\Local\\Packages\\PythonSoftwareFoundation.Python.3.10_qbz5n2kfra8p0\\LocalCache\\local-packages\\Python310\\site-packages\\seaborn\\_oldcore.py:1498: FutureWarning: is_categorical_dtype is deprecated and will be removed in a future version. Use isinstance(dtype, CategoricalDtype) instead\n",
      "  if pd.api.types.is_categorical_dtype(vector):\n",
      "C:\\Users\\Usuario\\AppData\\Local\\Packages\\PythonSoftwareFoundation.Python.3.10_qbz5n2kfra8p0\\LocalCache\\local-packages\\Python310\\site-packages\\seaborn\\_oldcore.py:1119: FutureWarning: use_inf_as_na option is deprecated and will be removed in a future version. Convert inf values to NaN before operating instead.\n",
      "  with pd.option_context('mode.use_inf_as_na', True):\n"
     ]
    },
    {
     "data": {
      "image/png": "[encoded data removed]",
      "text/plain": [
       "<Figure size 800x600 with 1 Axes>"
      ]
     },
     "metadata": {},
     "output_type": "display_data"
    }
   ],
   "source": [
    "import matplotlib.pyplot as plt\n",
    "import seaborn as sns\n",
    "\n",
    "# histograma para la columna \"Banda ancha fija\"\n",
    "plt.figure(figsize=(8, 6))\n",
    "sns.histplot(data=df_csv, x='Banda ancha fija')\n",
    "plt.xlabel('Banda ancha fija')\n",
    "plt.title('Distribución de Banda ancha fija')\n",
    "plt.show()\n",
    "\n"
   ]
  },
  {
   "cell_type": "markdown",
   "metadata": {},
   "source": [
    "Eje X (Banda ancha fija): El rango de valores de \"Banda ancha fija\" se extiende de 0 a 1000. Esto significa que se está considerando una amplia gama de valores de velocidad de banda ancha fija en los datos. El eje x muestra cómo se distribuyen estas velocidades dentro de ese rango.\n",
    "\n",
    "Eje Y (Recuento): El eje y muestra el recuento de observaciones en cada intervalo de velocidad de banda ancha fija. En este caso, el eje y representa cuántas veces se observó una velocidad de banda ancha fija en un cierto rango.\n",
    "\n",
    "Rango de interés (0 a 120): está relacionado con velocidades específicas de banda ancha fija que se encuentran en ese rango. Velocidades de banda ancha fija más lentas, en megabits por segundo (Mbps), que son comunes en ciertas áreas o para ciertos proveedores de servicios de Internet.\n",
    "\n",
    "Interpretación: Para interpretar el histograma, se puede observar cómo se distribuyen las velocidades de banda ancha fija en relación con el rango de 0 a 120 en el eje x. El histograma muestra una concentración significativa de observaciones en ese rango,  muchas velocidades de banda ancha fija caen en ese intervalo específico.\n",
    "\n",
    "En general, un histograma como este te permite comprender la distribución de las velocidades de banda ancha fija en los datos y cómo se agrupan o dispersan dentro de un rango particular. Se podría usar esta información para tomar decisiones relacionadas con la banda ancha fija, como identificar áreas con velocidades más bajas o comparar proveedores de servicios de Internet.\n",
    "\n",
    "\n",
    "\n",
    "\n",
    "\n"
   ]
  },
  {
   "cell_type": "markdown",
   "metadata": {},
   "source": [
    "Manipulación y limpieza de datos, como el manejo de valores nulos o duplicados."
   ]
  },
  {
   "cell_type": "code",
   "execution_count": 26,
   "metadata": {},
   "outputs": [
    {
     "data": {
      "text/html": [
       "<div>\n",
       "<style scoped>\n",
       "    .dataframe tbody tr th:only-of-type {\n",
       "        vertical-align: middle;\n",
       "    }\n",
       "\n",
       "    .dataframe tbody tr th {\n",
       "        vertical-align: top;\n",
       "    }\n",
       "\n",
       "    .dataframe thead th {\n",
       "        text-align: right;\n",
       "    }\n",
       "</style>\n",
       "<table border=\"1\" class=\"dataframe\">\n",
       "  <thead>\n",
       "    <tr style=\"text-align: right;\">\n",
       "      <th></th>\n",
       "      <th>Año</th>\n",
       "      <th>Trimestre</th>\n",
       "      <th>Provincia</th>\n",
       "      <th>Banda ancha fija</th>\n",
       "      <th>Dial up</th>\n",
       "      <th>Total</th>\n",
       "    </tr>\n",
       "  </thead>\n",
       "  <tbody>\n",
       "    <tr>\n",
       "      <th>0</th>\n",
       "      <td>False</td>\n",
       "      <td>False</td>\n",
       "      <td>False</td>\n",
       "      <td>False</td>\n",
       "      <td>False</td>\n",
       "      <td>False</td>\n",
       "    </tr>\n",
       "    <tr>\n",
       "      <th>1</th>\n",
       "      <td>False</td>\n",
       "      <td>False</td>\n",
       "      <td>False</td>\n",
       "      <td>False</td>\n",
       "      <td>False</td>\n",
       "      <td>False</td>\n",
       "    </tr>\n",
       "    <tr>\n",
       "      <th>2</th>\n",
       "      <td>False</td>\n",
       "      <td>False</td>\n",
       "      <td>False</td>\n",
       "      <td>False</td>\n",
       "      <td>False</td>\n",
       "      <td>False</td>\n",
       "    </tr>\n",
       "    <tr>\n",
       "      <th>3</th>\n",
       "      <td>False</td>\n",
       "      <td>False</td>\n",
       "      <td>False</td>\n",
       "      <td>False</td>\n",
       "      <td>False</td>\n",
       "      <td>False</td>\n",
       "    </tr>\n",
       "    <tr>\n",
       "      <th>4</th>\n",
       "      <td>False</td>\n",
       "      <td>False</td>\n",
       "      <td>False</td>\n",
       "      <td>False</td>\n",
       "      <td>False</td>\n",
       "      <td>False</td>\n",
       "    </tr>\n",
       "    <tr>\n",
       "      <th>...</th>\n",
       "      <td>...</td>\n",
       "      <td>...</td>\n",
       "      <td>...</td>\n",
       "      <td>...</td>\n",
       "      <td>...</td>\n",
       "      <td>...</td>\n",
       "    </tr>\n",
       "    <tr>\n",
       "      <th>859</th>\n",
       "      <td>False</td>\n",
       "      <td>False</td>\n",
       "      <td>False</td>\n",
       "      <td>False</td>\n",
       "      <td>False</td>\n",
       "      <td>False</td>\n",
       "    </tr>\n",
       "    <tr>\n",
       "      <th>860</th>\n",
       "      <td>False</td>\n",
       "      <td>False</td>\n",
       "      <td>False</td>\n",
       "      <td>False</td>\n",
       "      <td>False</td>\n",
       "      <td>False</td>\n",
       "    </tr>\n",
       "    <tr>\n",
       "      <th>861</th>\n",
       "      <td>False</td>\n",
       "      <td>False</td>\n",
       "      <td>False</td>\n",
       "      <td>False</td>\n",
       "      <td>False</td>\n",
       "      <td>False</td>\n",
       "    </tr>\n",
       "    <tr>\n",
       "      <th>862</th>\n",
       "      <td>False</td>\n",
       "      <td>False</td>\n",
       "      <td>False</td>\n",
       "      <td>False</td>\n",
       "      <td>False</td>\n",
       "      <td>False</td>\n",
       "    </tr>\n",
       "    <tr>\n",
       "      <th>863</th>\n",
       "      <td>False</td>\n",
       "      <td>False</td>\n",
       "      <td>False</td>\n",
       "      <td>False</td>\n",
       "      <td>False</td>\n",
       "      <td>False</td>\n",
       "    </tr>\n",
       "  </tbody>\n",
       "</table>\n",
       "<p>864 rows × 6 columns</p>\n",
       "</div>"
      ],
      "text/plain": [
       "       Año  Trimestre  Provincia  Banda ancha fija  Dial up  Total\n",
       "0    False      False      False             False    False  False\n",
       "1    False      False      False             False    False  False\n",
       "2    False      False      False             False    False  False\n",
       "3    False      False      False             False    False  False\n",
       "4    False      False      False             False    False  False\n",
       "..     ...        ...        ...               ...      ...    ...\n",
       "859  False      False      False             False    False  False\n",
       "860  False      False      False             False    False  False\n",
       "861  False      False      False             False    False  False\n",
       "862  False      False      False             False    False  False\n",
       "863  False      False      False             False    False  False\n",
       "\n",
       "[864 rows x 6 columns]"
      ]
     },
     "execution_count": 26,
     "metadata": {},
     "output_type": "execute_result"
    }
   ],
   "source": [
    "# Identificar valores nulos en el DataFrame\n",
    "df_csv.isna()\n"
   ]
  },
  {
   "cell_type": "code",
   "execution_count": 27,
   "metadata": {},
   "outputs": [
    {
     "data": {
      "text/plain": [
       "status          0\n",
       "description     0\n",
       "fLength         0\n",
       "fType           0\n",
       "fDescription    0\n",
       "dtype: int64"
      ]
     },
     "execution_count": 27,
     "metadata": {},
     "output_type": "execute_result"
    }
   ],
   "source": [
    "# Contar valores nulos por columna\n",
    "df.isna().sum()\n"
   ]
  },
  {
   "cell_type": "markdown",
   "metadata": {},
   "source": [
    "No se observaron valores nulos."
   ]
  },
  {
   "cell_type": "markdown",
   "metadata": {},
   "source": [
    "Se explora la correlación entre variables, se realiza pruebas estadísticas."
   ]
  },
  {
   "cell_type": "code",
   "execution_count": 29,
   "metadata": {},
   "outputs": [
    {
     "data": {
      "image/png": "[encoded data removed]",
      "text/plain": [
       "<Figure size 1000x800 with 2 Axes>"
      ]
     },
     "metadata": {},
     "output_type": "display_data"
    }
   ],
   "source": [
    "# Selecciona solo las columnas numéricas para el cálculo de la matriz de correlación\n",
    "columnas_numericas = df_csv.select_dtypes(include=['int64', 'float64'])\n",
    "\n",
    "# Calcula la matriz de correlación\n",
    "correlation_matrix = columnas_numericas.corr()\n",
    "\n",
    "# Crea un mapa de calor de la matriz de correlación\n",
    "plt.figure(figsize=(10, 8))\n",
    "sns.heatmap(correlation_matrix, annot=True, cmap=\"coolwarm\")\n",
    "plt.title(\"Mapa de calor de correlación\")\n",
    "plt.show()\n"
   ]
  },
  {
   "cell_type": "code",
   "execution_count": 32,
   "metadata": {},
   "outputs": [
    {
     "name": "stderr",
     "output_type": "stream",
     "text": [
      "C:\\Users\\Usuario\\AppData\\Local\\Packages\\PythonSoftwareFoundation.Python.3.10_qbz5n2kfra8p0\\LocalCache\\local-packages\\Python310\\site-packages\\seaborn\\_oldcore.py:1498: FutureWarning: is_categorical_dtype is deprecated and will be removed in a future version. Use isinstance(dtype, CategoricalDtype) instead\n",
      "  if pd.api.types.is_categorical_dtype(vector):\n"
     ]
    },
    {
     "data": {
      "image/png": "[encoded data removed]",
      "text/plain": [
       "<Figure size 640x480 with 1 Axes>"
      ]
     },
     "metadata": {},
     "output_type": "display_data"
    }
   ],
   "source": [
    "import seaborn as sns\n",
    "import matplotlib.pyplot as plt\n",
    "\n",
    "# boxplot para una columna numérica\n",
    "sns.boxplot(x=df_csv['Banda ancha fija'])\n",
    "plt.show()\n"
   ]
  },
  {
   "cell_type": "markdown",
   "metadata": {},
   "source": [
    "Se aclara que tanto en las columnas Banda ancha fija, como así también en la columna Dial up, no se detectaron datos atípicos.\n",
    "No se observan puntos individuales por encima del bigote superior del boxplot,como así tampoco se observan puntos individuales por debajo del bigote inferior."
   ]
  },
  {
   "cell_type": "code",
   "execution_count": 33,
   "metadata": {},
   "outputs": [
    {
     "name": "stderr",
     "output_type": "stream",
     "text": [
      "C:\\Users\\Usuario\\AppData\\Local\\Packages\\PythonSoftwareFoundation.Python.3.10_qbz5n2kfra8p0\\LocalCache\\local-packages\\Python310\\site-packages\\seaborn\\_oldcore.py:1498: FutureWarning: is_categorical_dtype is deprecated and will be removed in a future version. Use isinstance(dtype, CategoricalDtype) instead\n",
      "  if pd.api.types.is_categorical_dtype(vector):\n"
     ]
    },
    {
     "data": {
      "image/png": "[encoded data removed]",
      "text/plain": [
       "<Figure size 640x480 with 1 Axes>"
      ]
     },
     "metadata": {},
     "output_type": "display_data"
    }
   ],
   "source": [
    "sns.boxplot(x=df_csv['Dial up'])\n",
    "plt.show()"
   ]
  },
  {
   "cell_type": "markdown",
   "metadata": {},
   "source": [
    "Elimino la columna Total de mi Dataset y agrego otra de nombre TotalBA, ya que verificando visualmente y calculando en forma aleatorio el conteo del mismo no coincide en varias filas, como por ejemplo en el conteo de las conexiones de la Provincia de Buenos Aires da como resultado 5 y como Total de conxiones tendría que ser 11, asimismo la fila de Catamarca tendría que ser 72 y da como resultado 71. "
   ]
  },
  {
   "cell_type": "code",
   "execution_count": 25,
   "metadata": {},
   "outputs": [],
   "source": [
    "# Primero, calcula la suma de las columnas mencionadas y guárdala en una nueva columna 'TConexiones'\n",
    "df_csv['Total_BA'] = df_csv['Banda ancha fija'] + df_csv['Dial up'] \n",
    "\n",
    "# Ahora, elimina la columna 'Total' utilizando el método drop\n",
    "df_csv = df_csv.drop(columns=['Total'])\n",
    "\n",
    "# se reordena las columnas para tener 'TConexiones' al final.\n",
    "column_order = ['Año', 'Trimestre', 'Provincia', 'Banda ancha fija', 'Dial up','Total_BA']\n",
    "df_csv = df_csv[column_order]\n",
    "\n",
    "\n",
    "# Ahora, el DataFrame df_csv tiene la nueva columna 'Total_BA' y la columna 'Total' ha sido eliminada."
   ]
  },
  {
   "cell_type": "code",
   "execution_count": 26,
   "metadata": {},
   "outputs": [
    {
     "name": "stdout",
     "output_type": "stream",
     "text": [
      "    Año  Trimestre        Provincia  Banda ancha fija  Dial up  Total_BA\n",
      "0  2022          4     Buenos Aires                 5      6.0      11.0\n",
      "1  2022          4  Capital Federal                 2      2.0       4.0\n",
      "2  2022          4        Catamarca                71      1.0      72.0\n",
      "3  2022          4            Chaco               144      5.0     149.0\n",
      "4  2022          4           Chubut               168    904.0    1072.0\n"
     ]
    }
   ],
   "source": [
    "print(df_csv.head())"
   ]
  },
  {
   "cell_type": "markdown",
   "metadata": {},
   "source": [
    "Convierto las columnas con datos float a Int."
   ]
  },
  {
   "cell_type": "code",
   "execution_count": 27,
   "metadata": {},
   "outputs": [
    {
     "name": "stdout",
     "output_type": "stream",
     "text": [
      "      Año  Trimestre            Provincia  Banda ancha fija  Dial up  Total_BA\n",
      "0    2022          4         Buenos Aires                 5        6        11\n",
      "1    2022          4      Capital Federal                 2        2         4\n",
      "2    2022          4            Catamarca                71        1        72\n",
      "3    2022          4                Chaco               144        5       149\n",
      "4    2022          4               Chubut               168      904      1072\n",
      "..    ...        ...                  ...               ...      ...       ...\n",
      "859  2014          1           Santa Cruz                26      460       486\n",
      "860  2014          1             Santa Fe               506      612      1118\n",
      "861  2014          1  Santiago Del Estero                37        9        46\n",
      "862  2014          1     Tierra Del Fuego                27      766       793\n",
      "863  2014          1              Tucumán               130       88       218\n",
      "\n",
      "[862 rows x 6 columns]\n"
     ]
    }
   ],
   "source": [
    "# Eliminar filas con valores no finitos\n",
    "df_csv = df_csv.dropna()  # Elimina filas con NaN\n",
    "df_csv = df_csv.replace([float('inf'), float('-inf')], pd.NA)  # Reemplaza infinitos por NA\n",
    "\n",
    "# Convertir las columnas de float64 a int\n",
    "df_csv['Dial up'] = df_csv['Dial up'].astype(int)\n",
    "df_csv['Total_BA'] = df_csv['Total_BA'].astype(int)\n",
    "\n",
    "# Mostrar el DataFrame después de la conversión\n",
    "print(df_csv)\n",
    "\n"
   ]
  },
  {
   "cell_type": "code",
   "execution_count": 28,
   "metadata": {},
   "outputs": [
    {
     "name": "stdout",
     "output_type": "stream",
     "text": [
      "<class 'pandas.core.frame.DataFrame'>\n",
      "Index: 862 entries, 0 to 863\n",
      "Data columns (total 6 columns):\n",
      " #   Column            Non-Null Count  Dtype \n",
      "---  ------            --------------  ----- \n",
      " 0   Año               862 non-null    int64 \n",
      " 1   Trimestre         862 non-null    int64 \n",
      " 2   Provincia         862 non-null    object\n",
      " 3   Banda ancha fija  862 non-null    int64 \n",
      " 4   Dial up           862 non-null    int32 \n",
      " 5   Total_BA          862 non-null    int32 \n",
      "dtypes: int32(2), int64(3), object(1)\n",
      "memory usage: 40.4+ KB\n",
      "None\n"
     ]
    }
   ],
   "source": [
    "print(df_csv.info())"
   ]
  },
  {
   "cell_type": "markdown",
   "metadata": {},
   "source": [
    "Cargo los datos a un nuevo archivo .csv"
   ]
  },
  {
   "cell_type": "code",
   "execution_count": 29,
   "metadata": {},
   "outputs": [],
   "source": [
    "InternetBA = 'InternetBA.csv'\n",
    "df_csv.to_csv(InternetBA, index=False)"
   ]
  },
  {
   "cell_type": "markdown",
   "metadata": {},
   "source": [
    "Se carga una nueva base de datos correspondiente al acceso a internet por tecnología cada 100 hogares por provincia, para realizar otro EDA, ya que me servirá para realizar otro análisis y posterior exposición."
   ]
  },
  {
   "cell_type": "code",
   "execution_count": 34,
   "metadata": {},
   "outputs": [],
   "source": [
    "df_tecno = pd.read_csv('Internet_Accesos-por-tecnologia.csv')"
   ]
  },
  {
   "cell_type": "markdown",
   "metadata": {},
   "source": [
    "Visualización de las primeras filas del DataFrame:"
   ]
  },
  {
   "cell_type": "code",
   "execution_count": 35,
   "metadata": {},
   "outputs": [
    {
     "name": "stdout",
     "output_type": "stream",
     "text": [
      "    Año Trimestre        Provincia  ADSL  Cablemodem  Fibra óptica  Wireless  \\\n",
      "0  2022         4     Buenos Aires   326           3             1       130   \n",
      "1  2022         4  Capital Federal   139           1           139         5   \n",
      "2  2022         4        Catamarca     9          11            47         1   \n",
      "3  2022         4            Chaco    25          61            47         8   \n",
      "4  2022         4           Chubut    45          74            10        31   \n",
      "\n",
      "   Otros  Total  \n",
      "0     72      5  \n",
      "1     32      2  \n",
      "2      2     71  \n",
      "3      3    144  \n",
      "4      9    169  \n"
     ]
    }
   ],
   "source": [
    "print(df_tecno.head())"
   ]
  },
  {
   "cell_type": "markdown",
   "metadata": {},
   "source": [
    "Información sobre las columnas, incluyendo tipos de datos y valores nulos:"
   ]
  },
  {
   "cell_type": "code",
   "execution_count": 37,
   "metadata": {},
   "outputs": [
    {
     "name": "stdout",
     "output_type": "stream",
     "text": [
      "<class 'pandas.core.frame.DataFrame'>\n",
      "RangeIndex: 864 entries, 0 to 863\n",
      "Data columns (total 9 columns):\n",
      " #   Column        Non-Null Count  Dtype \n",
      "---  ------        --------------  ----- \n",
      " 0   Año           864 non-null    object\n",
      " 1   Trimestre     864 non-null    object\n",
      " 2   Provincia     864 non-null    object\n",
      " 3   ADSL          864 non-null    int64 \n",
      " 4   Cablemodem    864 non-null    int64 \n",
      " 5   Fibra óptica  864 non-null    int64 \n",
      " 6   Wireless      864 non-null    int64 \n",
      " 7   Otros         864 non-null    int64 \n",
      " 8   Total         864 non-null    int64 \n",
      "dtypes: int64(6), object(3)\n",
      "memory usage: 60.9+ KB\n",
      "None\n"
     ]
    }
   ],
   "source": [
    "print(df_tecno.info())"
   ]
  },
  {
   "cell_type": "markdown",
   "metadata": {},
   "source": [
    "Visualización de gráficos para explorar distribuciones, relaciones y patrones en los datos. "
   ]
  },
  {
   "cell_type": "markdown",
   "metadata": {},
   "source": [
    "Distribución de diferentes tecnologías a lo largo del tiempo utilizando gráficos de barras apiladas, se utiliza la biblioteca Seaborn."
   ]
  },
  {
   "cell_type": "code",
   "execution_count": 41,
   "metadata": {},
   "outputs": [
    {
     "name": "stderr",
     "output_type": "stream",
     "text": [
      "C:\\Users\\Usuario\\AppData\\Local\\Packages\\PythonSoftwareFoundation.Python.3.10_qbz5n2kfra8p0\\LocalCache\\local-packages\\Python310\\site-packages\\seaborn\\_oldcore.py:1498: FutureWarning: is_categorical_dtype is deprecated and will be removed in a future version. Use isinstance(dtype, CategoricalDtype) instead\n",
      "  if pd.api.types.is_categorical_dtype(vector):\n",
      "C:\\Users\\Usuario\\AppData\\Local\\Packages\\PythonSoftwareFoundation.Python.3.10_qbz5n2kfra8p0\\LocalCache\\local-packages\\Python310\\site-packages\\seaborn\\_oldcore.py:1498: FutureWarning: is_categorical_dtype is deprecated and will be removed in a future version. Use isinstance(dtype, CategoricalDtype) instead\n",
      "  if pd.api.types.is_categorical_dtype(vector):\n",
      "C:\\Users\\Usuario\\AppData\\Local\\Packages\\PythonSoftwareFoundation.Python.3.10_qbz5n2kfra8p0\\LocalCache\\local-packages\\Python310\\site-packages\\seaborn\\_oldcore.py:1498: FutureWarning: is_categorical_dtype is deprecated and will be removed in a future version. Use isinstance(dtype, CategoricalDtype) instead\n",
      "  if pd.api.types.is_categorical_dtype(vector):\n",
      "C:\\Users\\Usuario\\AppData\\Local\\Packages\\PythonSoftwareFoundation.Python.3.10_qbz5n2kfra8p0\\LocalCache\\local-packages\\Python310\\site-packages\\seaborn\\_oldcore.py:1498: FutureWarning: is_categorical_dtype is deprecated and will be removed in a future version. Use isinstance(dtype, CategoricalDtype) instead\n",
      "  if pd.api.types.is_categorical_dtype(vector):\n",
      "C:\\Users\\Usuario\\AppData\\Local\\Packages\\PythonSoftwareFoundation.Python.3.10_qbz5n2kfra8p0\\LocalCache\\local-packages\\Python310\\site-packages\\seaborn\\_oldcore.py:1498: FutureWarning: is_categorical_dtype is deprecated and will be removed in a future version. Use isinstance(dtype, CategoricalDtype) instead\n",
      "  if pd.api.types.is_categorical_dtype(vector):\n",
      "C:\\Users\\Usuario\\AppData\\Local\\Packages\\PythonSoftwareFoundation.Python.3.10_qbz5n2kfra8p0\\LocalCache\\local-packages\\Python310\\site-packages\\seaborn\\_oldcore.py:1498: FutureWarning: is_categorical_dtype is deprecated and will be removed in a future version. Use isinstance(dtype, CategoricalDtype) instead\n",
      "  if pd.api.types.is_categorical_dtype(vector):\n",
      "C:\\Users\\Usuario\\AppData\\Local\\Packages\\PythonSoftwareFoundation.Python.3.10_qbz5n2kfra8p0\\LocalCache\\local-packages\\Python310\\site-packages\\seaborn\\_oldcore.py:1498: FutureWarning: is_categorical_dtype is deprecated and will be removed in a future version. Use isinstance(dtype, CategoricalDtype) instead\n",
      "  if pd.api.types.is_categorical_dtype(vector):\n",
      "C:\\Users\\Usuario\\AppData\\Local\\Packages\\PythonSoftwareFoundation.Python.3.10_qbz5n2kfra8p0\\LocalCache\\local-packages\\Python310\\site-packages\\seaborn\\_oldcore.py:1498: FutureWarning: is_categorical_dtype is deprecated and will be removed in a future version. Use isinstance(dtype, CategoricalDtype) instead\n",
      "  if pd.api.types.is_categorical_dtype(vector):\n",
      "C:\\Users\\Usuario\\AppData\\Local\\Packages\\PythonSoftwareFoundation.Python.3.10_qbz5n2kfra8p0\\LocalCache\\local-packages\\Python310\\site-packages\\seaborn\\_oldcore.py:1498: FutureWarning: is_categorical_dtype is deprecated and will be removed in a future version. Use isinstance(dtype, CategoricalDtype) instead\n",
      "  if pd.api.types.is_categorical_dtype(vector):\n",
      "C:\\Users\\Usuario\\AppData\\Local\\Packages\\PythonSoftwareFoundation.Python.3.10_qbz5n2kfra8p0\\LocalCache\\local-packages\\Python310\\site-packages\\seaborn\\_oldcore.py:1498: FutureWarning: is_categorical_dtype is deprecated and will be removed in a future version. Use isinstance(dtype, CategoricalDtype) instead\n",
      "  if pd.api.types.is_categorical_dtype(vector):\n",
      "C:\\Users\\Usuario\\AppData\\Local\\Packages\\PythonSoftwareFoundation.Python.3.10_qbz5n2kfra8p0\\LocalCache\\local-packages\\Python310\\site-packages\\seaborn\\_oldcore.py:1498: FutureWarning: is_categorical_dtype is deprecated and will be removed in a future version. Use isinstance(dtype, CategoricalDtype) instead\n",
      "  if pd.api.types.is_categorical_dtype(vector):\n",
      "C:\\Users\\Usuario\\AppData\\Local\\Packages\\PythonSoftwareFoundation.Python.3.10_qbz5n2kfra8p0\\LocalCache\\local-packages\\Python310\\site-packages\\seaborn\\_oldcore.py:1498: FutureWarning: is_categorical_dtype is deprecated and will be removed in a future version. Use isinstance(dtype, CategoricalDtype) instead\n",
      "  if pd.api.types.is_categorical_dtype(vector):\n",
      "C:\\Users\\Usuario\\AppData\\Local\\Packages\\PythonSoftwareFoundation.Python.3.10_qbz5n2kfra8p0\\LocalCache\\local-packages\\Python310\\site-packages\\seaborn\\_oldcore.py:1498: FutureWarning: is_categorical_dtype is deprecated and will be removed in a future version. Use isinstance(dtype, CategoricalDtype) instead\n",
      "  if pd.api.types.is_categorical_dtype(vector):\n",
      "C:\\Users\\Usuario\\AppData\\Local\\Packages\\PythonSoftwareFoundation.Python.3.10_qbz5n2kfra8p0\\LocalCache\\local-packages\\Python310\\site-packages\\seaborn\\_oldcore.py:1498: FutureWarning: is_categorical_dtype is deprecated and will be removed in a future version. Use isinstance(dtype, CategoricalDtype) instead\n",
      "  if pd.api.types.is_categorical_dtype(vector):\n",
      "C:\\Users\\Usuario\\AppData\\Local\\Packages\\PythonSoftwareFoundation.Python.3.10_qbz5n2kfra8p0\\LocalCache\\local-packages\\Python310\\site-packages\\seaborn\\_oldcore.py:1498: FutureWarning: is_categorical_dtype is deprecated and will be removed in a future version. Use isinstance(dtype, CategoricalDtype) instead\n",
      "  if pd.api.types.is_categorical_dtype(vector):\n"
     ]
    },
    {
     "data": {
      "image/png": "[encoded data removed]",
      "text/plain": [
       "<Figure size 1000x600 with 1 Axes>"
      ]
     },
     "metadata": {},
     "output_type": "display_data"
    }
   ],
   "source": [
    "# Configura un color palette\n",
    "colors = sns.color_palette('Set3')\n",
    "\n",
    "# Crea un gráfico de barras apiladas\n",
    "plt.figure(figsize=(10, 6))\n",
    "sns.barplot(x='Año', y='ADSL', data=df_tecno, color=colors[0], label='ADSL')\n",
    "sns.barplot(x='Año', y='Cablemodem', data=df_tecno, color=colors[1], label='Cablemodem')\n",
    "sns.barplot(x='Año', y='Fibra óptica', data=df_tecno, color=colors[2], label='Fibra óptica')\n",
    "sns.barplot(x='Año', y='Wireless', data=df_tecno, color=colors[3], label='Wireless')\n",
    "sns.barplot(x='Año', y='Otros', data=df_tecno, color=colors[4], label='Otros')\n",
    "\n",
    "plt.xlabel('Año')\n",
    "plt.ylabel('Cantidad de Conexiones')\n",
    "plt.title('Distribución de Conexiones por Tecnología a lo largo del tiempo')\n",
    "plt.legend(loc='upper right')\n",
    "\n",
    "plt.show()\n"
   ]
  },
  {
   "cell_type": "markdown",
   "metadata": {},
   "source": [
    "Elimino la columna Total de mi Dataset y agrego otra de nombre TConexiones, ya que verificando visualmente y calculando en forma aleatorio el conteo del mismo no coincide en varias filas, como por ejemplo en el conteo de las conexiones de la Provincia de Buenos Aires da como resultado 5 y como Total de conxiones tendría que ser 532, asimismo la fila de Catamarca tendría que ser 70 y da como resultado 71. "
   ]
  },
  {
   "cell_type": "code",
   "execution_count": 42,
   "metadata": {},
   "outputs": [],
   "source": [
    "\n",
    "# Primero, calcula la suma de las columnas mencionadas y guárdala en una nueva columna 'TConexiones'\n",
    "df_tecno['TConexiones'] = df_tecno['ADSL'] + df_tecno['Cablemodem'] + df_tecno['Fibra óptica'] + df_tecno['Wireless'] + df_tecno['Otros']\n",
    "\n",
    "# Ahora, elimina la columna 'Total' utilizando el método drop\n",
    "df_tecno = df_tecno.drop(columns=['Total'])\n",
    "\n",
    "# se reordena las columnas para tener 'TConexiones' al final.\n",
    "column_order = ['Año', 'Trimestre', 'Provincia', 'ADSL', 'Cablemodem', 'Fibra óptica', 'Wireless', 'Otros', 'TConexiones']\n",
    "df_tecno = df_tecno[column_order]\n",
    "\n",
    "# Ahora, el DataFrame df_tecno tiene la nueva columna 'TConexiones' y la columna 'Total' ha sido eliminada.\n"
   ]
  },
  {
   "cell_type": "code",
   "execution_count": 43,
   "metadata": {},
   "outputs": [
    {
     "name": "stdout",
     "output_type": "stream",
     "text": [
      "    Año Trimestre        Provincia  ADSL  Cablemodem  Fibra óptica  Wireless  \\\n",
      "0  2022         4     Buenos Aires   326           3             1       130   \n",
      "1  2022         4  Capital Federal   139           1           139         5   \n",
      "2  2022         4        Catamarca     9          11            47         1   \n",
      "3  2022         4            Chaco    25          61            47         8   \n",
      "4  2022         4           Chubut    45          74            10        31   \n",
      "\n",
      "   Otros  TConexiones  \n",
      "0     72          532  \n",
      "1     32          316  \n",
      "2      2           70  \n",
      "3      3          144  \n",
      "4      9          169  \n"
     ]
    }
   ],
   "source": [
    "print(df_tecno.head())"
   ]
  },
  {
   "cell_type": "markdown",
   "metadata": {},
   "source": [
    "Una vez verificado los resultados de la nueva columna, exportamos el df a un nuevo csv, para su posterior análisis."
   ]
  },
  {
   "cell_type": "code",
   "execution_count": 47,
   "metadata": {},
   "outputs": [],
   "source": [
    "nuevo_acc_Tecno_csv = 'nuevo_acc_Tecno.csv'\n",
    "df_tecno.to_csv(nuevo_acc_Tecno_csv, index=False)\n"
   ]
  },
  {
   "cell_type": "code",
   "execution_count": 31,
   "metadata": {},
   "outputs": [],
   "source": [
    "df_tecno2 = pd.read_csv('nuevo_acc_Tecno.csv')"
   ]
  },
  {
   "cell_type": "markdown",
   "metadata": {},
   "source": [
    "Visualización de gráficos para explorar distribuciones, relaciones y patrones en los datos. "
   ]
  },
  {
   "cell_type": "markdown",
   "metadata": {},
   "source": [
    "Distribución  Total a lo largo del tiempo, utilizando gráficos de barras apiladas, se utiliza la biblioteca Seaborn, se observa la mayor cantidad de conexiones sumando todas las tecnologías a lo largo del tiempo ( 2014 al 2022), en las Provincias de Córdoba y San Juan, seguidas de Capital Federal y Santa Fe."
   ]
  },
  {
   "cell_type": "code",
   "execution_count": 52,
   "metadata": {},
   "outputs": [
    {
     "name": "stderr",
     "output_type": "stream",
     "text": [
      "C:\\Users\\Usuario\\AppData\\Local\\Packages\\PythonSoftwareFoundation.Python.3.10_qbz5n2kfra8p0\\LocalCache\\local-packages\\Python310\\site-packages\\seaborn\\_oldcore.py:1498: FutureWarning: is_categorical_dtype is deprecated and will be removed in a future version. Use isinstance(dtype, CategoricalDtype) instead\n",
      "  if pd.api.types.is_categorical_dtype(vector):\n",
      "C:\\Users\\Usuario\\AppData\\Local\\Packages\\PythonSoftwareFoundation.Python.3.10_qbz5n2kfra8p0\\LocalCache\\local-packages\\Python310\\site-packages\\seaborn\\_oldcore.py:1498: FutureWarning: is_categorical_dtype is deprecated and will be removed in a future version. Use isinstance(dtype, CategoricalDtype) instead\n",
      "  if pd.api.types.is_categorical_dtype(vector):\n",
      "C:\\Users\\Usuario\\AppData\\Local\\Packages\\PythonSoftwareFoundation.Python.3.10_qbz5n2kfra8p0\\LocalCache\\local-packages\\Python310\\site-packages\\seaborn\\_oldcore.py:1498: FutureWarning: is_categorical_dtype is deprecated and will be removed in a future version. Use isinstance(dtype, CategoricalDtype) instead\n",
      "  if pd.api.types.is_categorical_dtype(vector):\n"
     ]
    },
    {
     "data": {
      "image/png": "[encoded data removed]",
      "text/plain": [
       "<Figure size 1000x600 with 1 Axes>"
      ]
     },
     "metadata": {},
     "output_type": "display_data"
    }
   ],
   "source": [
    "# Configura un color palette\n",
    "colors = sns.color_palette('Set3')\n",
    "\n",
    "# Crea un gráfico de barras apiladas\n",
    "plt.figure(figsize=(10, 6))\n",
    "sns.barplot(x='Provincia', y='TConexiones', data=df_tecno2, palette=colors)\n",
    "\n",
    "plt.xlabel('Provincia')\n",
    "plt.ylabel('Cantidad de Conexiones')\n",
    "plt.title('Distribución Total de Conexiones por Provincia')\n",
    "\n",
    "# Rotar las etiquetas del eje x para mejorar la legibilidad\n",
    "plt.xticks(rotation=90)\n",
    "\n",
    "plt.show()\n"
   ]
  },
  {
   "cell_type": "code",
   "execution_count": 46,
   "metadata": {},
   "outputs": [
    {
     "name": "stdout",
     "output_type": "stream",
     "text": [
      "<class 'pandas.core.frame.DataFrame'>\n",
      "RangeIndex: 864 entries, 0 to 863\n",
      "Data columns (total 9 columns):\n",
      " #   Column        Non-Null Count  Dtype \n",
      "---  ------        --------------  ----- \n",
      " 0   Año           864 non-null    object\n",
      " 1   Trimestre     864 non-null    object\n",
      " 2   Provincia     864 non-null    object\n",
      " 3   ADSL          864 non-null    object\n",
      " 4   Cablemodem    864 non-null    object\n",
      " 5   Fibra óptica  864 non-null    object\n",
      " 6   Wireless      864 non-null    object\n",
      " 7   Otros         864 non-null    object\n",
      " 8   TConexiones   864 non-null    object\n",
      "dtypes: object(9)\n",
      "memory usage: 60.9+ KB\n",
      "None\n"
     ]
    }
   ],
   "source": [
    "print(df_tecno2.info())"
   ]
  },
  {
   "cell_type": "code",
   "execution_count": 37,
   "metadata": {},
   "outputs": [
    {
     "name": "stdout",
     "output_type": "stream",
     "text": [
      "      Año Trimestre            Provincia  ADSL  Cablemodem  Fibra óptica  \\\n",
      "0    2022         4         Buenos Aires   326           3             1   \n",
      "1    2022         4      Capital Federal   139           1           139   \n",
      "2    2022         4            Catamarca     9          11            47   \n",
      "3    2022         4                Chaco    25          61            47   \n",
      "4    2022         4               Chubut    45          74            10   \n",
      "..    ...       ...                  ...   ...         ...           ...   \n",
      "859  2014         1           Santa Cruz    19         100           381   \n",
      "860  2014         1             Santa Fe   323         174             3   \n",
      "861  2014         1  Santiago Del Estero    33           4            19   \n",
      "862  2014         1     Tierra Del Fuego    22           3           648   \n",
      "863  2014         1              Tucumán   130          83           121   \n",
      "\n",
      "     Wireless  Otros  TConexiones  \n",
      "0         130     72          532  \n",
      "1           5     32          316  \n",
      "2           1      2           70  \n",
      "3           8      3          144  \n",
      "4          31      9          169  \n",
      "..        ...    ...          ...  \n",
      "859         4      3          507  \n",
      "860         6    644         1150  \n",
      "861       915     34         1005  \n",
      "862         1      3          677  \n",
      "863        13     98          445  \n",
      "\n",
      "[864 rows x 9 columns]\n"
     ]
    }
   ],
   "source": [
    "print(df_tecno2)"
   ]
  },
  {
   "cell_type": "markdown",
   "metadata": {},
   "source": [
    "He detectado que varias filas, poseía (* y espacios en blanco), lo cual me dificulta al cargar en Power Bi, por lo cual decidí eliminarlos de mi dataset."
   ]
  },
  {
   "cell_type": "code",
   "execution_count": 43,
   "metadata": {},
   "outputs": [
    {
     "name": "stdout",
     "output_type": "stream",
     "text": [
      "      Año Trimestre            Provincia ADSL Cablemodem Fibra óptica  \\\n",
      "0    2022         4         Buenos Aires  326          3            1   \n",
      "1    2022         4      Capital Federal  139          1          139   \n",
      "2    2022         4            Catamarca    9         11           47   \n",
      "3    2022         4                Chaco   25         61           47   \n",
      "4    2022         4               Chubut   45         74           10   \n",
      "..    ...       ...                  ...  ...        ...          ...   \n",
      "859  2014         1           Santa Cruz   19        100          381   \n",
      "860  2014         1             Santa Fe  323        174            3   \n",
      "861  2014         1  Santiago Del Estero   33          4           19   \n",
      "862  2014         1     Tierra Del Fuego   22          3          648   \n",
      "863  2014         1              Tucumán  130         83          121   \n",
      "\n",
      "    Wireless Otros TConexiones  \n",
      "0        130    72         532  \n",
      "1          5    32         316  \n",
      "2          1     2          70  \n",
      "3          8     3         144  \n",
      "4         31     9         169  \n",
      "..       ...   ...         ...  \n",
      "859        4     3         507  \n",
      "860        6   644        1150  \n",
      "861      915    34        1005  \n",
      "862        1     3         677  \n",
      "863       13    98         445  \n",
      "\n",
      "[864 rows x 9 columns]\n"
     ]
    },
    {
     "name": "stderr",
     "output_type": "stream",
     "text": [
      "C:\\Users\\Usuario\\AppData\\Local\\Temp\\ipykernel_9660\\99883894.py:7: FutureWarning: DataFrame.applymap has been deprecated. Use DataFrame.map instead.\n",
      "  df_tecno2 = df_tecno2.applymap(limpiar_celda)\n"
     ]
    }
   ],
   "source": [
    "# Definir una función para eliminar asteriscos y espacios en blanco de una cadena\n",
    "def limpiar_celda(celda):\n",
    "    # Reemplazar asteriscos y eliminar espacios en blanco\n",
    "    return str(celda).replace('*', '').strip()\n",
    "\n",
    "# Aplicar la función a todas las celdas del DataFrame\n",
    "df_tecno2 = df_tecno2.applymap(limpiar_celda)\n",
    "\n",
    "# Mostrar el DataFrame después del reemplazo\n",
    "print(df_tecno2)"
   ]
  },
  {
   "cell_type": "markdown",
   "metadata": {},
   "source": [
    "Una vez eliminado los *, reemplace mi archivo.csv."
   ]
  },
  {
   "cell_type": "code",
   "execution_count": 44,
   "metadata": {},
   "outputs": [],
   "source": [
    "nuevo_acc_Tecno_csv = 'nuevo_acc_Tecno.csv'\n",
    "df_tecno2.to_csv(nuevo_acc_Tecno_csv, index=False)"
   ]
  },
  {
   "cell_type": "code",
   "execution_count": 47,
   "metadata": {},
   "outputs": [
    {
     "name": "stdout",
     "output_type": "stream",
     "text": [
      "      Año Trimestre            Provincia ADSL Cablemodem Fibra óptica  \\\n",
      "0    2022         4         Buenos Aires  326          3            1   \n",
      "1    2022         4      Capital Federal  139          1          139   \n",
      "2    2022         4            Catamarca    9         11           47   \n",
      "3    2022         4                Chaco   25         61           47   \n",
      "4    2022         4               Chubut   45         74           10   \n",
      "..    ...       ...                  ...  ...        ...          ...   \n",
      "859  2014         1           Santa Cruz   19        100          381   \n",
      "860  2014         1             Santa Fe  323        174            3   \n",
      "861  2014         1  Santiago Del Estero   33          4           19   \n",
      "862  2014         1     Tierra Del Fuego   22          3          648   \n",
      "863  2014         1              Tucumán  130         83          121   \n",
      "\n",
      "    Wireless Otros  TConexiones  Nuevo_Acceso  \n",
      "0        130    72          532        542.64  \n",
      "1          5    32          316        322.32  \n",
      "2          1     2           70         71.40  \n",
      "3          8     3          144        146.88  \n",
      "4         31     9          169        172.38  \n",
      "..       ...   ...          ...           ...  \n",
      "859        4     3          507        517.14  \n",
      "860        6   644         1150       1173.00  \n",
      "861      915    34         1005       1025.10  \n",
      "862        1     3          677        690.54  \n",
      "863       13    98          445        453.90  \n",
      "\n",
      "[864 rows x 10 columns]\n"
     ]
    }
   ],
   "source": [
    "\n",
    "# Assuming you have your DataFrame df_tecno2\n",
    "df_tecno2['TConexiones'] = pd.to_numeric(df_tecno2['TConexiones'], errors='coerce')\n",
    "df_tecno2['Nuevo_Acceso'] = df_tecno2['TConexiones'] * 1.02\n",
    "\n",
    "# Display the DataFrame\n",
    "print(df_tecno2)\n"
   ]
  },
  {
   "cell_type": "code",
   "execution_count": 48,
   "metadata": {},
   "outputs": [
    {
     "name": "stdout",
     "output_type": "stream",
     "text": [
      "DataFrame para ejes de tendencia y destino:\n",
      "      Año Trimestre  Nuevo_Acceso\n",
      "0    2022         4        542.64\n",
      "1    2022         4        322.32\n",
      "2    2022         4         71.40\n",
      "3    2022         4        146.88\n",
      "4    2022         4        172.38\n",
      "..    ...       ...           ...\n",
      "859  2014         1        517.14\n",
      "860  2014         1       1173.00\n",
      "861  2014         1       1025.10\n",
      "862  2014         1        690.54\n",
      "863  2014         1        453.90\n",
      "\n",
      "[864 rows x 3 columns]\n",
      "\n",
      "DataFrame para campos de objetivo del KPI:\n",
      "      Año Trimestre            Provincia ADSL Cablemodem Fibra óptica  \\\n",
      "0    2022         4         Buenos Aires  326          3            1   \n",
      "1    2022         4      Capital Federal  139          1          139   \n",
      "2    2022         4            Catamarca    9         11           47   \n",
      "3    2022         4                Chaco   25         61           47   \n",
      "4    2022         4               Chubut   45         74           10   \n",
      "..    ...       ...                  ...  ...        ...          ...   \n",
      "859  2014         1           Santa Cruz   19        100          381   \n",
      "860  2014         1             Santa Fe  323        174            3   \n",
      "861  2014         1  Santiago Del Estero   33          4           19   \n",
      "862  2014         1     Tierra Del Fuego   22          3          648   \n",
      "863  2014         1              Tucumán  130         83          121   \n",
      "\n",
      "    Wireless Otros  TConexiones  \n",
      "0        130    72          532  \n",
      "1          5    32          316  \n",
      "2          1     2           70  \n",
      "3          8     3          144  \n",
      "4         31     9          169  \n",
      "..       ...   ...          ...  \n",
      "859        4     3          507  \n",
      "860        6   644         1150  \n",
      "861      915    34         1005  \n",
      "862        1     3          677  \n",
      "863       13    98          445  \n",
      "\n",
      "[864 rows x 9 columns]\n"
     ]
    }
   ],
   "source": [
    "\n",
    "# Crear un DataFrame para los ejes de tendencia y destino\n",
    "df_tendencia_destino = df_tecno2[['Año', 'Trimestre', 'Nuevo_Acceso']]\n",
    "\n",
    "# Crear un DataFrame para los campos de objetivo del KPI\n",
    "df_objetivo_kpi = df_tecno2[['Año', 'Trimestre', 'Provincia', 'ADSL', 'Cablemodem', 'Fibra óptica', 'Wireless', 'Otros', 'TConexiones']]\n",
    "\n",
    "# Mostrar el DataFrame para los ejes de tendencia y destino\n",
    "print(\"DataFrame para ejes de tendencia y destino:\")\n",
    "print(df_tendencia_destino)\n",
    "\n",
    "# Mostrar el DataFrame para los campos de objetivo del KPI\n",
    "print(\"\\nDataFrame para campos de objetivo del KPI:\")\n",
    "print(df_objetivo_kpi)\n"
   ]
  },
  {
   "cell_type": "code",
   "execution_count": 49,
   "metadata": {},
   "outputs": [],
   "source": [
    "tendencia_destino = 'Tendencia_Destino.csv'\n",
    "df_tendencia_destino.to_csv(tendencia_destino, index=False)"
   ]
  },
  {
   "cell_type": "code",
   "execution_count": null,
   "metadata": {},
   "outputs": [],
   "source": [
    "objetivo_kpi = 'Objetivo_kpi.csv'\n",
    "df_objetivo_kpi.to_csv(objetivo_kpi, index=False)"
   ]
  },
  {
   "cell_type": "markdown",
   "metadata": {},
   "source": [
    "Finalmente, con todos los análisis y ETL mis dataset quedaron personalizados para trabajarlo con el dasbohard en Power Bi y de esta manera pasar a la otra instancia de mi informe. Debo aclarar que de todos los desgloses de mis datasets, probablemente seleccione sólo algunos, que me represente la totalidad de mis requerimientos en los kpis a desarrollar.  "
   ]
  }
 ],
 "metadata": {
  "kernelspec": {
   "display_name": "Python 3",
   "language": "python",
   "name": "python3"
  },
  "language_info": {
   "codemirror_mode": {
    "name": "ipython",
    "version": 3
   },
   "file_extension": ".py",
   "mimetype": "text/x-python",
   "name": "python",
   "nbconvert_exporter": "python",
   "pygments_lexer": "ipython3",
   "version": "3.10.11"
  }
 },
 "nbformat": 4,
 "nbformat_minor": 2
}
